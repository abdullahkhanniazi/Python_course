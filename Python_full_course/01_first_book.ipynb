{
 "cells": [
  {
   "cell_type": "code",
   "execution_count": 2,
   "metadata": {},
   "outputs": [
    {
     "name": "stdout",
     "output_type": "stream",
     "text": [
      "<class 'bool'>\n",
      "1.0\n",
      "0.0\n"
     ]
    }
   ],
   "source": [
    "# Casting boolean to float\n",
    "f_true = True\n",
    "f_false = False\n",
    "\n",
    "print(type(f_true))\n",
    "# <class 'bool'>\n",
    "\n",
    "# converting boolean to float\n",
    "n1 = float(f_true)\n",
    "n2 = float(f_false)\n",
    "\n",
    "print(n1)\n",
    "print(n2)\n",
    "\n",
    "# 1.0\n",
    "# 0.0\n",
    "\n",
    "# You can also use this method to change stirng value"
   ]
  },
  {
   "cell_type": "markdown",
   "metadata": {},
   "source": [
    "### Control Flow statement"
   ]
  },
  {
   "cell_type": "code",
   "execution_count": 4,
   "metadata": {},
   "outputs": [
    {
     "name": "stdout",
     "output_type": "stream",
     "text": [
      "20\n",
      "code over\n"
     ]
    }
   ],
   "source": [
    "# Simple control satement\n",
    "num = 2\n",
    "if num > 1:\n",
    "    print(num*10)\n",
    "print(\"code over\")"
   ]
  },
  {
   "cell_type": "code",
   "execution_count": 5,
   "metadata": {},
   "outputs": [
    {
     "name": "stdout",
     "output_type": "stream",
     "text": [
      "5 is not greater then 6\n"
     ]
    }
   ],
   "source": [
    "# IF-ELSE statement\n",
    "num = 5\n",
    "if num > 6:\n",
    "    print(f\"{num} is greater then 6\")\n",
    "else:\n",
    "    print(f\"{num} is not greater then 6\")"
   ]
  },
  {
   "cell_type": "code",
   "execution_count": 6,
   "metadata": {},
   "outputs": [
    {
     "name": "stdout",
     "output_type": "stream",
     "text": [
      "Login successful\n"
     ]
    }
   ],
   "source": [
    "# Example\n",
    "test_pass = '121314@pp'\n",
    "\n",
    "password: str = input(\"Enter password: \")\n",
    "if password == test_pass:\n",
    "    print(\"Login successful\")\n",
    "else:\n",
    "    print(\"Try again!\")"
   ]
  },
  {
   "cell_type": "code",
   "execution_count": 10,
   "metadata": {},
   "outputs": [
    {
     "name": "stdout",
     "output_type": "stream",
     "text": [
      "Which office do you want to visit ->\n",
      "Select 1 for Admin\n",
      "Select 2 for regional office\n",
      "Select 3 for local office\n",
      "Chose from above\n",
      "None\n"
     ]
    }
   ],
   "source": [
    "# IF-ELIF-ELSE statement\n",
    "print(\"Which office do you want to visit ->\")\n",
    "print(\"Select 1 for Admin\")\n",
    "print(\"Select 2 for regional office\")\n",
    "print(\"Select 3 for local office\")\n",
    "\n",
    "def selection(choice):\n",
    "    if choice == 1:\n",
    "        print(f\"Yo can enter into Admin\")\n",
    "    elif choice == 2:\n",
    "        print(f\"Yo can enter into regional office\")\n",
    "    elif choice == 3:\n",
    "        print(f\"Yo can enter into local office\")\n",
    "    else:\n",
    "        print(\"Chose from above\")\n",
    "\n",
    "choice: int = int(input(\"Enter your choice\"))\n",
    "print(selection(choice))"
   ]
  },
  {
   "cell_type": "code",
   "execution_count": 13,
   "metadata": {},
   "outputs": [
    {
     "name": "stdout",
     "output_type": "stream",
     "text": [
      "Which office do you want to visit ->\n",
      "Select 1 for Admin\n",
      "Select 2 for regional office\n",
      "Select 3 for local office\n",
      "Chose from above\n"
     ]
    }
   ],
   "source": [
    "# IF-ELIF-ELSE statement\n",
    "print(\"Which office do you want to visit ->\")\n",
    "print(\"Select 1 for Admin\")\n",
    "print(\"Select 2 for regional office\")\n",
    "print(\"Select 3 for local office\")\n",
    "\n",
    "def selection(choice):\n",
    "    if choice == 1:\n",
    "        print(f\"Yo can enter into Admin\")\n",
    "    elif choice == 2:\n",
    "        print(f\"Yo can enter into regional office\")\n",
    "    elif choice == 3:\n",
    "        print(f\"Yo can enter into local office\")\n",
    "    else:\n",
    "        print(\"Chose from above\")\n",
    "\n",
    "choice: int = int(input(\"Enter your choice: \"))\n",
    "selection(choice)"
   ]
  },
  {
   "cell_type": "code",
   "execution_count": 14,
   "metadata": {},
   "outputs": [
    {
     "name": "stdout",
     "output_type": "stream",
     "text": [
      "1\n",
      "2\n",
      "3\n",
      "4\n",
      "5\n"
     ]
    }
   ],
   "source": [
    "# For loop simple example\n",
    "\n",
    "for i in range(1,6):\n",
    "    print(i)"
   ]
  },
  {
   "cell_type": "code",
   "execution_count": 16,
   "metadata": {},
   "outputs": [
    {
     "name": "stdout",
     "output_type": "stream",
     "text": [
      "90\n"
     ]
    }
   ],
   "source": [
    "# Print sum of all even numbers from 10 to 20\n",
    "sum = 0\n",
    "for i in range(10,21):\n",
    "    if i%2 == 0:\n",
    "        sum += i\n",
    "print(sum)\n",
    "\n",
    "# you can also write above function as\n",
    "sum = 0\n",
    "for i in range(2, 22, 2):\n",
    "    sum = sum + i\n",
    "print(sum)"
   ]
  },
  {
   "cell_type": "markdown",
   "metadata": {},
   "source": [
    "### for-loop"
   ]
  },
  {
   "cell_type": "code",
   "execution_count": 21,
   "metadata": {},
   "outputs": [
    {
     "name": "stdout",
     "output_type": "stream",
     "text": [
      "The square of 1 is 1\n",
      "The square of 2 is 4\n",
      "The square of 3 is 9\n",
      "The square of 4 is 16\n",
      "The square of 5 is 25\n"
     ]
    }
   ],
   "source": [
    "# for loop to iterate a list\n",
    "num = [1, 2, 3, 4, 5]\n",
    "for i in num:\n",
    "    #print(i)   # uncomment this line\n",
    "    pass #comment this line\n",
    "    \n",
    "# if you want to square the list of items\n",
    "for i in num:\n",
    "    n = i * i # or i**2\n",
    "    print(f\"The square of {i} is {n}\")"
   ]
  },
  {
   "cell_type": "code",
   "execution_count": 22,
   "metadata": {},
   "outputs": [
    {
     "name": "stdout",
     "output_type": "stream",
     "text": [
      "Odd Number: 1\n",
      "Even Number: 2\n",
      "Odd Number: 3\n",
      "Even Number: 4\n",
      "Odd Number: 5\n",
      "Even Number: 6\n",
      "Odd Number: 7\n",
      "Even Number: 8\n",
      "Odd Number: 9\n",
      "Even Number: 10\n"
     ]
    }
   ],
   "source": [
    "# If-Else in for loop\n",
    "for i in range(1, 11):\n",
    "    if i % 2 == 0:\n",
    "        print('Even Number:', i)\n",
    "    else:\n",
    "        print('Odd Number:', i)"
   ]
  },
  {
   "cell_type": "code",
   "execution_count": 23,
   "metadata": {},
   "outputs": [
    {
     "name": "stdout",
     "output_type": "stream",
     "text": [
      "38\n",
      "33\n",
      "25\n",
      "7\n"
     ]
    }
   ],
   "source": [
    "# Reversed numbers using reversed() function\n",
    "l: list= [7, 25, 33, 38]\n",
    "for i in reversed(l):\n",
    "    print(i)    "
   ]
  },
  {
   "cell_type": "code",
   "execution_count": 25,
   "metadata": {},
   "outputs": [
    {
     "name": "stdout",
     "output_type": "stream",
     "text": [
      "* \n",
      "* * \n",
      "* * * \n",
      "* * * * \n",
      "* * * * * \n"
     ]
    }
   ],
   "source": [
    "# Print this structure\n",
    "# *\n",
    "# * *\n",
    "# * * *\n",
    "# * * * *\n",
    "# * * * * *\n",
    "\n",
    "n_rows: int= int(input(\"Enter number of rows: \"))\n",
    "for i in range(0,n_rows):\n",
    "    for j in range(0,i+1):\n",
    "        print(\"*\", end=\" \")\n",
    "    print(\"\")"
   ]
  },
  {
   "cell_type": "code",
   "execution_count": 27,
   "metadata": {},
   "outputs": [
    {
     "name": "stdout",
     "output_type": "stream",
     "text": [
      "2\n",
      "6\n",
      "8\n",
      "10\n"
     ]
    }
   ],
   "source": [
    "# While loop in single line\n",
    "odd = [1, 5, 7, 9]\n",
    "even = [print(i+1) for i in odd]"
   ]
  },
  {
   "cell_type": "code",
   "execution_count": 29,
   "metadata": {},
   "outputs": [
    {
     "name": "stdout",
     "output_type": "stream",
     "text": [
      "Number[0] =  1\n",
      "Number[1] =  5\n",
      "Number[2] =  7\n",
      "Number[3] =  9\n"
     ]
    }
   ],
   "source": [
    "# Print elements of the list with its index number\n",
    "l = [1, 5, 7, 9]\n",
    "for i,v in enumerate(l):\n",
    "    print(f\"Number[{i}] = \",v)"
   ]
  },
  {
   "cell_type": "markdown",
   "metadata": {},
   "source": [
    "### While Loop"
   ]
  },
  {
   "cell_type": "code",
   "execution_count": 31,
   "metadata": {},
   "outputs": [
    {
     "name": "stdout",
     "output_type": "stream",
     "text": [
      "1\n",
      "2\n",
      "3\n",
      "4\n",
      "ji\n"
     ]
    }
   ],
   "source": [
    "count = 1\n",
    "while count < 5:\n",
    "    print(count)\n",
    "    count +=1"
   ]
  },
  {
   "cell_type": "code",
   "execution_count": 33,
   "metadata": {},
   "outputs": [
    {
     "name": "stdout",
     "output_type": "stream",
     "text": [
      "Which office do you want to visit ->\n",
      "Select 1 for Admin\n",
      "Select 2 for regional office\n",
      "Select 3 for local office\n",
      "Yo can enter into regional office\n"
     ]
    }
   ],
   "source": [
    "# Example\n",
    "print(\"Which office do you want to visit ->\")\n",
    "print(\"Select 1 for Admin\")\n",
    "print(\"Select 2 for regional office\")\n",
    "print(\"Select 3 for local office\")\n",
    "\n",
    "def selection(choice):\n",
    "    if choice == 1:\n",
    "        print(f\"Yo can enter into Admin\")\n",
    "    elif choice == 2:\n",
    "        print(f\"Yo can enter into regional office\")\n",
    "    elif choice == 3:\n",
    "        print(f\"Yo can enter into local office\")\n",
    "    else:\n",
    "        print(\"Chose from above\")\n",
    "\n",
    "choice: int = int(input(\"Enter your choice: \"))\n",
    "while choice > 3:\n",
    "    print(\"Incorrect choice, Please chose option between 1 to 3\")\n",
    "    choice: int = int(input(\"Enter your choice: \"))\n",
    "else:\n",
    "    selection(choice)"
   ]
  },
  {
   "cell_type": "code",
   "execution_count": 35,
   "metadata": {},
   "outputs": [
    {
     "name": "stdout",
     "output_type": "stream",
     "text": [
      "Abdullahkhan"
     ]
    }
   ],
   "source": [
    "name = 'Abd28ullah09 khan'\n",
    "size = len(name)\n",
    "i = -1\n",
    "while i < size-1:\n",
    "    i += 1\n",
    "    if not name[i].isalpha():\n",
    "        continue\n",
    "    \n",
    "    print(name[i], end='')"
   ]
  },
  {
   "cell_type": "code",
   "execution_count": 40,
   "metadata": {},
   "outputs": [
    {
     "name": "stdout",
     "output_type": "stream",
     "text": [
      "Abdullahkhan"
     ]
    }
   ],
   "source": [
    "name = 'Abd28ullah09 khan'\n",
    "size = len(name)\n",
    "i = -1\n",
    "while i < size-1:\n",
    "    i += 1\n",
    "    if not name[i].isalpha():\n",
    "        continue\n",
    "    \n",
    "    print(name[i], end='')"
   ]
  },
  {
   "cell_type": "code",
   "execution_count": 43,
   "metadata": {},
   "outputs": [
    {
     "name": "stdout",
     "output_type": "stream",
     "text": [
      "2.4\n",
      "<class 'float'>\n"
     ]
    }
   ],
   "source": [
    "# input function with data type\n",
    "# choice: int = int(input(\"Enter your choice: \"))\n",
    "# print(choice)\n",
    "# print(type(choice))\n",
    "\n",
    "choice: float = float(input(\"Enter your choice: \"))\n",
    "print(choice)\n",
    "print(type(choice))"
   ]
  },
  {
   "cell_type": "code",
   "execution_count": 44,
   "metadata": {},
   "outputs": [
    {
     "name": "stdout",
     "output_type": "stream",
     "text": [
      "6.4\n"
     ]
    }
   ],
   "source": [
    "# Accept one integer and one float number from the user and calculate the multiplication of both the numbers\n",
    "choice1: int = int(input(\"Enter your 1st choice: \"))\n",
    "choice2: float = float(input(\"Enter your 2nd choice: \"))\n",
    "\n",
    "num = choice1 * choice2\n",
    "print(num)"
   ]
  },
  {
   "cell_type": "code",
   "execution_count": 45,
   "metadata": {},
   "outputs": [
    {
     "name": "stdout",
     "output_type": "stream",
     "text": [
      "Tell me about yourself\n",
      "\n",
      "\n",
      "Final text input\n",
      "My name is Abdullah khan\n",
      "And i am software engineer\n"
     ]
    }
   ],
   "source": [
    "# list to store multi line input\n",
    "# press enter two times to exit\n",
    "\n",
    "data = []\n",
    "print(\"Tell me about yourself\")\n",
    "while True:\n",
    "    line = input()\n",
    "    if line:\n",
    "        data.append(line)\n",
    "    else:\n",
    "        break\n",
    "\n",
    "f_text = '\\n'.join(data)\n",
    "print('\\n')\n",
    "print(\"Final text input\")\n",
    "print(f_text)"
   ]
  },
  {
   "cell_type": "markdown",
   "metadata": {},
   "source": [
    "### All about list"
   ]
  },
  {
   "cell_type": "code",
   "execution_count": 59,
   "metadata": {},
   "outputs": [
    {
     "name": "stdout",
     "output_type": "stream",
     "text": [
      "[10, 20, 'Jessa', 13, 12.5, 'Emma', 25, 50]\n",
      "[10, 20, 'Jessa', 14, 12.5, 'Emma', 25, 50]\n",
      "[10, 20, 'Jessa', 12.5, 'Emma', 25, 50]\n"
     ]
    }
   ],
   "source": [
    "list = [10, 20, 'Jessa', 12.50, 'Emma', 25, 50]\n",
    "# iteration\n",
    "\n",
    "# for i in list:\n",
    "#     print(i)\n",
    "\n",
    "list[0] # first element\n",
    "list[1:3] # 2nd and third element\n",
    "list[::3] # every third element\n",
    "list[-1] # element from last\n",
    "len(list)\n",
    "\n",
    "# Also we can iterate with range function\n",
    "# for i in range(0,len(list)):\n",
    "#     print(list[i])\n",
    "\n",
    "# insert in the list\n",
    "list.insert(3, 13)\n",
    "print(list)\n",
    "\n",
    "list[3] = 14\n",
    "print(list)\n",
    "\n",
    "# remove specific item\n",
    "list.remove(14)\n",
    "print(list)"
   ]
  },
  {
   "cell_type": "code",
   "execution_count": 62,
   "metadata": {},
   "outputs": [
    {
     "name": "stdout",
     "output_type": "stream",
     "text": [
      "Yes\n"
     ]
    }
   ],
   "source": [
    "# Python isinstance()\n",
    "num = 10\n",
    "res = isinstance(num, int)\n",
    "if res:\n",
    "    print(\"Yes\")\n",
    "else:\n",
    "    print(\"No\")"
   ]
  },
  {
   "cell_type": "code",
   "execution_count": 66,
   "metadata": {},
   "outputs": [
    {
     "name": "stdout",
     "output_type": "stream",
     "text": [
      "3.6j is not instance of int type\n"
     ]
    }
   ],
   "source": [
    "# isinstance() Example\n",
    "def check(num):\n",
    "    if isinstance(num, (int,float)):\n",
    "        print(f\"{num} is int type\")\n",
    "    else:\n",
    "        print(f'{num} is not instance of int type')\n",
    "\n",
    "num = 3.6j\n",
    "check(num)"
   ]
  },
  {
   "cell_type": "markdown",
   "metadata": {},
   "source": [
    "## Class in Python"
   ]
  },
  {
   "cell_type": "code",
   "execution_count": 78,
   "metadata": {},
   "outputs": [
    {
     "name": "stdout",
     "output_type": "stream",
     "text": [
      "Student: Ali 12\n",
      "School name: Adam school system\n"
     ]
    }
   ],
   "source": [
    "class student:\n",
    "    # class variable\n",
    "    school = \"Adam school system\"\n",
    "    def __init__(self, name, age) -> str:\n",
    "        self.name = name\n",
    "        self.age = age\n",
    "\n",
    "s1 = student(\"Ali\", 12)\n",
    "# access instance variables\n",
    "print('Student:', s1.name, s1.age)\n",
    "\n",
    "# access class variable\n",
    "print('School name:', student.school)\n",
    "\n",
    "# how to modify the instance variable the code is in down cell\n"
   ]
  },
  {
   "cell_type": "code",
   "execution_count": 77,
   "metadata": {},
   "outputs": [
    {
     "name": "stdout",
     "output_type": "stream",
     "text": [
      "Object 1\n",
      "Name: Ali\n",
      "Age: 12\n",
      "\n",
      "Object 2nd\n",
      "Name: Hamza\n",
      "Age: 16\n",
      "\n",
      "After Modification\n",
      "Name: waqar\n",
      "Age: 14\n",
      "Marks: 90\n",
      "\n",
      "After Modification\n"
     ]
    }
   ],
   "source": [
    "# Instance variable\n",
    "class student:\n",
    "    def __init__(self, name, age) -> str:\n",
    "        # Instance variable -> means these variables only belong to this class\n",
    "        self.name = name\n",
    "        self.age = age\n",
    "    \n",
    "# Creating object of class \n",
    "s1 = student(\"Ali\", 12)\n",
    "\n",
    "# acess instance variable \n",
    "print(\"Object 1\")\n",
    "print(f\"Name: {s1.name}\")\n",
    "print(f\"Age: {s1.age}\")\n",
    "\n",
    "# Create second object\n",
    "s2 = student(\"Hamza\", 16)\n",
    "print(\"\\nObject 2nd\")\n",
    "\n",
    "#Accessing instance variable\n",
    "print(f\"Name: {s2.name}\")\n",
    "print(f\"Age: {s2.age}\")\n",
    "\n",
    "\n",
    "# You can also modify data let's apply on s2\n",
    "s2.name = \"waqar\"\n",
    "s2.age = 14\n",
    "\n",
    "# After modification\n",
    "print(\"\\nAfter Modification\")\n",
    "print(f\"Name: {s2.name}\")\n",
    "print(f\"Age: {s2.age}\")\n",
    "\n",
    "# You can add new instance variable from outside with object\n",
    "s2.marks = 90\n",
    "print(f\"Marks: {s2.marks}\")\n",
    "\n",
    "# we can also remove instance variable -> let's practice on s2\n",
    "delattr(s2, \"age\")\n",
    "print(\"\\nAfter Modification\")\n",
    "# print(f\"Name: {s2.name}, Age: {s2.age}\") # Error: 'student' object has no attribute 'age'"
   ]
  },
  {
   "cell_type": "code",
   "execution_count": 5,
   "metadata": {},
   "outputs": [
    {
     "name": "stdout",
     "output_type": "stream",
     "text": [
      "Name: Abdulllah and age: 25 and course: Physics\n",
      "Name: Ali and age: 25 and course: Math\n"
     ]
    }
   ],
   "source": [
    "class Student:\n",
    "    course_name = \"Physics\"\n",
    "    \n",
    "    def __init__(self, name, age):\n",
    "      self.name = name\n",
    "      self.age = age\n",
    "    \n",
    "    def show(self):\n",
    "        print(f\"Name: {self.name} and age: {self.age} and course: {self.course_name}\")\n",
    "    \n",
    "    def change_age(self,new_age):\n",
    "        self.age = new_age\n",
    "    \n",
    "    # If you want to change the class variable\n",
    "    @classmethod\n",
    "    def change_subject(self,new_subject):\n",
    "        self.course_name = new_subject\n",
    "        \n",
    "S1 = Student(\"Abdulllah\", 25)\n",
    "# class instance method\n",
    "S1.show()\n",
    "S1.course_name\n",
    "\n",
    "S1.name = \"Ali\"\n",
    "\n",
    "# calling class method \n",
    "Student.change_subject(\"Math\")\n",
    "S1.show()"
   ]
  },
  {
   "cell_type": "markdown",
   "metadata": {},
   "source": [
    "### Different types of constructors"
   ]
  },
  {
   "cell_type": "code",
   "execution_count": 6,
   "metadata": {},
   "outputs": [
    {
     "name": "stdout",
     "output_type": "stream",
     "text": [
      "Hello show function\n"
     ]
    }
   ],
   "source": [
    "# Default constructor\n",
    "class Student:\n",
    "    def show(self):\n",
    "        print(\"Hello show function\")\n",
    "        \n",
    "S1 = Student()\n",
    "S1.show()"
   ]
  },
  {
   "cell_type": "code",
   "execution_count": 8,
   "metadata": {},
   "outputs": [
    {
     "name": "stdout",
     "output_type": "stream",
     "text": [
      "Name of student is: Abdullah khan and age is: 24\n"
     ]
    }
   ],
   "source": [
    "# Non-Parametrized Constructor -> ccontructor with default values\n",
    "class student:\n",
    "    def __init__(self):\n",
    "      self.name = 'Abdullah khan'\n",
    "      self.age = 24\n",
    "      \n",
    "    def show(self):\n",
    "        print(f\"Name of student is: {self.name} and age is: {self.age}\")\n",
    "        \n",
    "S1 = student()\n",
    "S1.show()"
   ]
  },
  {
   "cell_type": "code",
   "execution_count": 9,
   "metadata": {},
   "outputs": [],
   "source": [
    "# The para metrized consturctor is defiend and excute at top like\n",
    "# def __init__(self,name, age)"
   ]
  },
  {
   "cell_type": "markdown",
   "metadata": {},
   "source": [
    "## Inheritence"
   ]
  },
  {
   "cell_type": "code",
   "execution_count": 11,
   "metadata": {},
   "outputs": [
    {
     "name": "stdout",
     "output_type": "stream",
     "text": [
      "XYZ school\n",
      "The ABC student\n"
     ]
    }
   ],
   "source": [
    "# single Inheritance\n",
    "class school:\n",
    "    def sch_intro(self):\n",
    "        print(\"XYZ school\")\n",
    "    \n",
    "class student(school):\n",
    "    def stu_intro(self):\n",
    "        print(\"The ABC student\")\n",
    "\n",
    "s1 = student()\n",
    "s1.sch_intro()\n",
    "s1.stu_intro()"
   ]
  },
  {
   "cell_type": "code",
   "execution_count": 12,
   "metadata": {},
   "outputs": [
    {
     "name": "stdout",
     "output_type": "stream",
     "text": [
      "Person class\n",
      "Name of person is: Ali, and age is: 23\n",
      "Company class\n",
      "Name of company: ABC company and address is : XYZ address\n",
      "Employee class\n",
      "Salary of employee is : 500000 and skill is Software Engineer\n"
     ]
    }
   ],
   "source": [
    "# Multiple Inheritance\n",
    "class person():   # Parent class\n",
    "    def person_info(self, name, age):\n",
    "        print(\"Person class\")\n",
    "        print(f\"Name of person is: {name}, and age is: {age}\")\n",
    "        \n",
    "class company():    # Parent class\n",
    "    def company_info(self, company_name, address):\n",
    "        print(f\"Company class\")\n",
    "        print(f\"Name of company: {company_name} and address is : {address}\")\n",
    "\n",
    "class employee(person, company):    # Child class\n",
    "    def employee_info(self, salary, skill):\n",
    "        print(\"Employee class\")\n",
    "        print(f\"Salary of employee is : {salary} and skill is {skill}\")\n",
    "\n",
    "emp = employee()\n",
    "\n",
    "emp.person_info(\"Ali\", 23)\n",
    "emp.company_info(\"ABC company\", \"XYZ address\")\n",
    "emp.employee_info(500000, \"Software Engineer\")"
   ]
  },
  {
   "cell_type": "markdown",
   "metadata": {},
   "source": [
    "### Super()"
   ]
  },
  {
   "cell_type": "code",
   "execution_count": 14,
   "metadata": {},
   "outputs": [
    {
     "name": "stdout",
     "output_type": "stream",
     "text": [
      "Google\n",
      "Name of employee is Abdullah and company name is: None\n"
     ]
    }
   ],
   "source": [
    "class company:\n",
    "    def company_name(self):\n",
    "        print(\"Google\")\n",
    "        \n",
    "class employee(company):\n",
    "    def intro(self, name):\n",
    "        # calling the company name with super class methods\n",
    "        com_name = super().company_name()\n",
    "        print(f\"Name of employee is {name} and company name is: {com_name}\")\n",
    "        \n",
    "emp = employee()\n",
    "emp.intro(\"Abdullah\")"
   ]
  },
  {
   "cell_type": "markdown",
   "metadata": {},
   "source": [
    "## Method Overriding"
   ]
  },
  {
   "cell_type": "code",
   "execution_count": 15,
   "metadata": {},
   "outputs": [
    {
     "name": "stdout",
     "output_type": "stream",
     "text": [
      "max speed is 150 Km/Hour\n"
     ]
    }
   ],
   "source": [
    "# This function will override the parent method \n",
    "class Vehicle:\n",
    "    def max_speed(self):\n",
    "        print(\"max speed is 120 Km/Hour\")\n",
    "\n",
    "class Car(Vehicle):\n",
    "    def max_speed(self):\n",
    "        print(\"max speed is 150 Km/Hour\")\n",
    "        \n",
    "car = Car()\n",
    "car.max_speed()"
   ]
  },
  {
   "cell_type": "markdown",
   "metadata": {},
   "source": [
    "### Constructor Chaining"
   ]
  },
  {
   "cell_type": "code",
   "execution_count": 17,
   "metadata": {},
   "outputs": [
    {
     "name": "stdout",
     "output_type": "stream",
     "text": [
      "The car engine is: 1000cc, car max_speed is: 180 and km_range: 540\n"
     ]
    }
   ],
   "source": [
    "class Vehicle:\n",
    "    def __init__(self, engine):\n",
    "        self.engine: str = engine\n",
    "\n",
    "class Car(Vehicle):\n",
    "    def __init__(self, engine, max_speed):\n",
    "        super().__init__(engine)\n",
    "        self.max_speed: int = max_speed\n",
    "\n",
    "class E_car(Car):\n",
    "    def __init__(self, engine, max_speed, km_range):\n",
    "        super().__init__(engine, max_speed)\n",
    "        self.km_range: float = km_range\n",
    "\n",
    "ecar = E_car(\"1000cc\", 180, 540)\n",
    "print(f\"The car engine is: {ecar.engine}, car max_speed is: {ecar.max_speed} and km_range: {ecar.km_range}\")"
   ]
  },
  {
   "cell_type": "markdown",
   "metadata": {},
   "source": [
    "## Encapsulation"
   ]
  },
  {
   "cell_type": "code",
   "execution_count": 18,
   "metadata": {},
   "outputs": [
    {
     "name": "stdout",
     "output_type": "stream",
     "text": [
      "Name:  Jessa Salary: 8000\n",
      "Jessa is working on NLP\n"
     ]
    }
   ],
   "source": [
    "class Employee:\n",
    "    def __init__(self, name, salary, project):\n",
    "        self.name = name\n",
    "        self.salary = salary\n",
    "        self.project = project\n",
    "\n",
    "    def show(self):\n",
    "        print(\"Name: \", self.name, 'Salary:', self.salary)\n",
    "\n",
    "    def work(self):\n",
    "        print(self.name, 'is working on', self.project)\n",
    "        \n",
    "emp = Employee('Jessa', 8000, 'NLP')\n",
    "emp.show()\n",
    "emp.work()"
   ]
  },
  {
   "cell_type": "code",
   "execution_count": 32,
   "metadata": {},
   "outputs": [
    {
     "name": "stdout",
     "output_type": "stream",
     "text": [
      "Name:  Jessa Salary: 8000\n",
      "Jessa is working on NLP\n",
      "Jessa\n",
      "NLP\n"
     ]
    }
   ],
   "source": [
    "# There are three types of access modifiers private, public, and protected\n",
    "class Employee:\n",
    "    def __init__(self, name, salary, project):\n",
    "        self.name = name    # Public \n",
    "        self._salary = salary # Protected\n",
    "        self.__project = project  #Private\n",
    "\n",
    "    def show(self):\n",
    "        print(\"Name: \", self.name, 'Salary:', self._salary)\n",
    "\n",
    "    def work(self):\n",
    "        print(self.name, 'is working on', self.__project)\n",
    "        \n",
    "emp = Employee('Jessa', 8000, 'NLP')\n",
    "emp.show()\n",
    "emp.work()\n",
    "\n",
    "\n",
    "# acceing outside the class \n",
    "print(emp.name)\n",
    "# print(emp.salary) # Without _ this will generate error\n",
    "# print(emp.__project) # Also generate error if not __\n",
    "# You can access it by with class name\n",
    "print(emp._Employee__project) # Also generate error if not __"
   ]
  },
  {
   "cell_type": "markdown",
   "metadata": {},
   "source": [
    "## Getters and Setters"
   ]
  },
  {
   "cell_type": "code",
   "execution_count": 42,
   "metadata": {},
   "outputs": [
    {
     "name": "stdout",
     "output_type": "stream",
     "text": [
      "Name:  Jessa Salary: 8000\n",
      "Jessa is working on NLP\n",
      "Before: 8000\n",
      "Salary is already above the average\n",
      "After: 8000\n",
      "Before: NLP\n",
      "After: Image_resolution\n"
     ]
    }
   ],
   "source": [
    "# There are three types of access modifiers private, public, and protected\n",
    "class Employee:\n",
    "    def __init__(self, name, salary, project):\n",
    "        self.name = name    # Public \n",
    "        self._salary = salary # Protected\n",
    "        self.__project = project  #Private\n",
    "        \n",
    "    # get method\n",
    "    def get_salary(self):\n",
    "        return self._salary\n",
    "    \n",
    "    # Set Method\n",
    "    def set_salary(self,salary):\n",
    "        # If you want to implement condition\n",
    "        if salary > 9000:\n",
    "            print(f\"Salary is already above the average\")\n",
    "        else:\n",
    "            self._salary = salary\n",
    "        \n",
    "    def get_project(self):\n",
    "        return self.__project\n",
    "    \n",
    "    # Set Method\n",
    "    def set_project(self,project):\n",
    "        self.__project = project\n",
    "\n",
    "    def show(self):\n",
    "        print(\"Name: \", self.name, 'Salary:', self._salary)\n",
    "\n",
    "    def work(self):\n",
    "        print(self.name, 'is working on', self.__project)\n",
    "        \n",
    "emp = Employee('Jessa', 8000, 'NLP')\n",
    "emp.show()\n",
    "emp.work()\n",
    "\n",
    "# Before salary\n",
    "print(f\"Before: {emp.get_salary()}\")\n",
    "emp.set_salary(10000)\n",
    "# After salary \n",
    "print(f\"After: {emp.get_salary()}\")\n",
    "\n",
    "# Before prject\n",
    "\n",
    "print(f\"Before: {emp.get_project()}\")\n",
    "# After prject \n",
    "emp.set_project(\"Image_resolution\")\n",
    "print(f\"After: {emp.get_project()}\")"
   ]
  },
  {
   "cell_type": "markdown",
   "metadata": {},
   "source": [
    "## Polymorphism With Inheritance"
   ]
  },
  {
   "cell_type": "code",
   "execution_count": 46,
   "metadata": {},
   "outputs": [
    {
     "name": "stdout",
     "output_type": "stream",
     "text": [
      "Car Name: BMW, Car Color: Red, Car Price 800000\n",
      "Car max speed is 200\n",
      "Car change 5 gear\n",
      "\n",
      "Car Name: Tayota A56, Car Color: White, Car Price 90000000\n",
      "Vehicle max speed is 100\n",
      "Vehicle change 6 gear\n"
     ]
    }
   ],
   "source": [
    "# Method Overriding\n",
    "class Vehicle:\n",
    "\n",
    "    def __init__(self, name, color, price):\n",
    "        self.name = name\n",
    "        self.color = color\n",
    "        self.price = price\n",
    "\n",
    "    def show(self):\n",
    "        print(f'Car Name: {self.name}, Car Color: {self.color}, Car Price {self.price}')\n",
    "\n",
    "    def max_speed(self):\n",
    "        print('Vehicle max speed is 100')\n",
    "\n",
    "    def change_gear(self):\n",
    "        print('Vehicle change 6 gear')\n",
    "        \n",
    "class Car(Vehicle):\n",
    "    def max_speed(self):\n",
    "        print('Car max speed is 200')\n",
    "\n",
    "    def change_gear(self):\n",
    "        print('Car change 5 gear')\n",
    "        \n",
    "car = Car(\"BMW\", \"Red\", 800000)\n",
    "car.show()\n",
    "car.max_speed()\n",
    "car.change_gear()\n",
    "print('')\n",
    "\n",
    "vehicle = Vehicle(\"Tayota A56\", \"White\", 90000000)\n",
    "vehicle.show()\n",
    "vehicle.max_speed()\n",
    "vehicle.change_gear()"
   ]
  },
  {
   "cell_type": "markdown",
   "metadata": {},
   "source": [
    "## OOP excercises"
   ]
  },
  {
   "cell_type": "code",
   "execution_count": 50,
   "metadata": {},
   "outputs": [
    {
     "name": "stdout",
     "output_type": "stream",
     "text": [
      "Abdullah 24\n"
     ]
    }
   ],
   "source": [
    "# Create a Class with instance attributes\n",
    "class Student:\n",
    "    def __init__(self, name, age) -> None:\n",
    "        self.name = name\n",
    "        self.age = age\n",
    "        \n",
    "s1 = Student(\"Abdullah\", 24)\n",
    "print(s1.name,s1.age)"
   ]
  },
  {
   "cell_type": "code",
   "execution_count": 57,
   "metadata": {},
   "outputs": [
    {
     "name": "stdout",
     "output_type": "stream",
     "text": [
      "Name of vehicle: Vita 320 bus, Maximum speed: 155 and Millage: 520\n"
     ]
    }
   ],
   "source": [
    "# Create a child class Bus that will inherit all of the variables and methods of the Vehicle class\n",
    "\n",
    "class Vehicle:\n",
    "\n",
    "    def __init__(self, name, max_speed, mileage):\n",
    "        self.name = name\n",
    "        self.max_speed = max_speed\n",
    "        self.mileage = mileage\n",
    "    def show(self):\n",
    "        print(f\"Name of vehicle: {self.name}, Maximum speed: {self.max_speed} and Millage: {self.mileage}\")\n",
    "\n",
    "class Bus(Vehicle):\n",
    "    def __init__(self, name, max_speed, mileage):\n",
    "        super().__init__(name,max_speed,mileage)\n",
    "\n",
    "b1 = Bus(\"Vita 320 bus\", 155, 520)\n",
    "b1.show()"
   ]
  },
  {
   "cell_type": "code",
   "execution_count": 59,
   "metadata": {},
   "outputs": [
    {
     "data": {
      "text/plain": [
       "'The seating capacity of a Vita 320 bus is 50 passengers'"
      ]
     },
     "execution_count": 59,
     "metadata": {},
     "output_type": "execute_result"
    }
   ],
   "source": [
    "# Create a Bus class that inherits from the Vehicle class. Give the capacity argument of Bus.seating_capacity() a default value of 50\n",
    "class Vehicle:\n",
    "    def __init__(self, name, max_speed, mileage):\n",
    "        self.name = name\n",
    "        self.max_speed = max_speed\n",
    "        self.mileage = mileage\n",
    "\n",
    "    def seating_capacity(self, capacity):\n",
    "        return f\"The seating capacity of a {self.name} is {capacity} passengers\"\n",
    "\n",
    "class Bus(Vehicle):\n",
    "    def __init__(self, name, max_speed, mileage):\n",
    "        super().__init__(name,max_speed,mileage)\n",
    "    def seating_capacity(self, capacity = 50):\n",
    "        return f\"The seating capacity of a {self.name} is {capacity} passengers\"\n",
    "\n",
    "b1 = Bus(\"Vita 320 bus\", 155, 520)\n",
    "b1.seating_capacity()"
   ]
  },
  {
   "cell_type": "code",
   "execution_count": 68,
   "metadata": {},
   "outputs": [
    {
     "name": "stdout",
     "output_type": "stream",
     "text": [
      "The seating capacity and fare of a Tyota is 20 is 2000\n",
      "The seating capacity and fare of a Vita 320 bus is 12 is 1200\n"
     ]
    }
   ],
   "source": [
    "# Create a Bus child class that inherits from the Vehicle class. The default fare charge of any vehicle is seating capacity * 100. If Vehicle is Bus instance, we need to add an extra 10% on full fare as a maintenance charge. So total fare for bus instance will become the final \n",
    "# amount = total fare + 10% of the total fare.\n",
    "\n",
    "class Vehicle:\n",
    "    def __init__(self, name, seats, fare):\n",
    "        self.name = name\n",
    "        self.seats = seats\n",
    "        self.fare = fare\n",
    "\n",
    "    def seating_fare(self):\n",
    "        return f\"The seating capacity and fare of a {self.name} is {self.seats} is {self.seats* 100}\"\n",
    "\n",
    "class Bus(Vehicle):\n",
    "    def __init__(self, name, seats, fare = 0.1):\n",
    "        super().__init__(name, seats, fare)\n",
    "\n",
    "b1 = Vehicle(\"Tyota\", 20, 50)\n",
    "print(b1.seating_fare())\n",
    "b2 = Bus(\"Vita 320 bus\", 12, 50)\n",
    "print(b2.seating_fare())"
   ]
  },
  {
   "cell_type": "markdown",
   "metadata": {},
   "source": [
    "## Decorators"
   ]
  },
  {
   "cell_type": "code",
   "execution_count": 79,
   "metadata": {},
   "outputs": [
    {
     "name": "stdout",
     "output_type": "stream",
     "text": [
      "Name: Abdullah khan\n",
      "Person full name: Abdullah khan\n"
     ]
    }
   ],
   "source": [
    "class Person:\n",
    "    def __init__(self, fname, lname):\n",
    "      self.fname = fname\n",
    "      self.lname = lname\n",
    "    def __str__(self) -> str:\n",
    "       return f\"Name: {self.fname} {self.lname}\"\n",
    "   \n",
    "   \n",
    "    @property\n",
    "    def fullname(self) -> str:\n",
    "        return f\"Person full name: {self.fname} {self.lname}\"\n",
    "   \n",
    "p1 = Person(\"Abdullah\", \"khan\")\n",
    "print(p1)\n",
    "print(p1.fullname)"
   ]
  }
 ],
 "metadata": {
  "kernelspec": {
   "display_name": "Python 3",
   "language": "python",
   "name": "python3"
  },
  "language_info": {
   "codemirror_mode": {
    "name": "ipython",
    "version": 3
   },
   "file_extension": ".py",
   "mimetype": "text/x-python",
   "name": "python",
   "nbconvert_exporter": "python",
   "pygments_lexer": "ipython3",
   "version": "3.10.5"
  }
 },
 "nbformat": 4,
 "nbformat_minor": 2
}
